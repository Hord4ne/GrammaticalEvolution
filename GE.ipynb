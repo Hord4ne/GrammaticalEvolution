{
 "cells": [
  {
   "cell_type": "markdown",
   "metadata": {},
   "source": [
    "## Libraries"
   ]
  },
  {
   "cell_type": "code",
   "execution_count": 25,
   "metadata": {
    "collapsed": true
   },
   "outputs": [],
   "source": [
    "from pyneurgen.grammatical_evolution import GrammaticalEvolution\n",
    "from pyneurgen.fitness import FitnessElites, FitnessTournament\n",
    "from pyneurgen.fitness import ReplacementTournament, MAX, MIN, CENTER"
   ]
  },
  {
   "cell_type": "markdown",
   "metadata": {},
   "source": [
    "## Grammar"
   ]
  },
  {
   "cell_type": "code",
   "execution_count": 26,
   "metadata": {
    "collapsed": true
   },
   "outputs": [],
   "source": [
    "bnf =   \"\"\"\n",
    "<expr>              ::= <expr> <biop> <expr> | <uop> <expr> | <real> |\n",
    "                        math.log(abs(<expr>)) | <pow> | math.sin(<expr> )|\n",
    "                        value | (<expr>)\n",
    "<biop>              ::= + | - | * | /\n",
    "<uop>               ::= + | -\n",
    "<pow>               ::= pow(<expr>, <real>)\n",
    "<plus>              ::= +\n",
    "<minus>             ::= -\n",
    "<real>              ::= <int-const>.<int-const>\n",
    "<int-const>         ::= <int-const> | 1 | 2 | 3 | 4 | 5 | 6 |\n",
    "                        7 | 8 | 9 | 0\n",
    "<S>                 ::=\n",
    "import math\n",
    "total = 0.0\n",
    "for i in xrange(100):\n",
    "    value = float(i) / float(100)\n",
    "    total += abs(<expr> - pow(value, 3))\n",
    "fitness = total\n",
    "self.set_bnf_variable('<fitness>', fitness)\n",
    "        \"\"\""
   ]
  },
  {
   "cell_type": "markdown",
   "metadata": {},
   "source": [
    "## Evolutionary Parameters"
   ]
  },
  {
   "cell_type": "code",
   "execution_count": 27,
   "metadata": {
    "collapsed": true
   },
   "outputs": [],
   "source": [
    "ges = GrammaticalEvolution()\n",
    "\n",
    "ges.set_bnf(bnf)\n",
    "ges.set_genotype_length(start_gene_length=20,\n",
    "                        max_gene_length=50)\n",
    "ges.set_population_size(50)\n",
    "ges.set_wrap(True)"
   ]
  },
  {
   "cell_type": "markdown",
   "metadata": {},
   "source": [
    "## Stopping Criteria\n"
   ]
  },
  {
   "cell_type": "code",
   "execution_count": 28,
   "metadata": {
    "collapsed": true
   },
   "outputs": [],
   "source": [
    "ges.set_max_generations(1000)\n",
    "ges.set_fitness_type(MIN, .01)"
   ]
  },
  {
   "cell_type": "code",
   "execution_count": 29,
   "metadata": {
    "collapsed": true
   },
   "outputs": [],
   "source": [
    "ges.set_max_program_length(500)\n",
    "ges.set_timeouts(10, 120)\n",
    "ges.set_fitness_fail(100.0)"
   ]
  },
  {
   "cell_type": "markdown",
   "metadata": {},
   "source": [
    "## Fitness "
   ]
  },
  {
   "cell_type": "code",
   "execution_count": 30,
   "metadata": {
    "collapsed": true
   },
   "outputs": [],
   "source": [
    "ges.set_fitness_selections(\n",
    "    FitnessElites(ges.fitness_list, .05),\n",
    "    FitnessTournament(ges.fitness_list, tournament_size=2))\n",
    "ges.set_max_fitness_rate(.5)"
   ]
  },
  {
   "cell_type": "code",
   "execution_count": 31,
   "metadata": {
    "collapsed": true
   },
   "outputs": [],
   "source": [
    "ges.set_mutation_rate(.025)\n",
    "ges.set_fitness_selections(\n",
    "    FitnessElites(ges.fitness_list, .05),\n",
    "    FitnessTournament(ges.fitness_list, tournament_size=2))\n",
    "ges.set_max_fitness_rate(.5)\n",
    "\n",
    "ges.set_crossover_rate(.2)\n",
    "ges.set_children_per_crossover(2)\n",
    "ges.set_mutation_type('m')\n",
    "ges.set_max_fitness_rate(.25)"
   ]
  },
  {
   "cell_type": "markdown",
   "metadata": {},
   "source": [
    "## Replacements"
   ]
  },
  {
   "cell_type": "code",
   "execution_count": 32,
   "metadata": {
    "collapsed": true
   },
   "outputs": [],
   "source": [
    "ges.set_replacement_selections(\n",
    "        ReplacementTournament(ges.fitness_list, tournament_size=3))"
   ]
  },
  {
   "cell_type": "markdown",
   "metadata": {},
   "source": [
    "## Run"
   ]
  },
  {
   "cell_type": "code",
   "execution_count": 33,
   "metadata": {
    "collapsed": true
   },
   "outputs": [],
   "source": [
    "ges.set_maintain_history(True)\n"
   ]
  },
  {
   "cell_type": "code",
   "execution_count": 34,
   "metadata": {},
   "outputs": [
    {
     "name": "stdout",
     "output_type": "stream",
     "text": [
      "30\n"
     ]
    }
   ],
   "source": [
    "ges.create_genotypes()\n",
    "print ges.run()"
   ]
  },
  {
   "cell_type": "markdown",
   "metadata": {},
   "source": [
    "[[fitness value, member number1]"
   ]
  },
  {
   "cell_type": "code",
   "execution_count": 39,
   "metadata": {},
   "outputs": [
    {
     "data": {
      "text/plain": [
       "[[0.640942314743, 0],\n",
       " [0.640942314743, 1],\n",
       " [0.640942314743, 2],\n",
       " [0.640942314743, 3],\n",
       " [0.640942314743, 4],\n",
       " [0.640942314743, 5],\n",
       " [0.640942314743, 6],\n",
       " [0.640942314743, 7],\n",
       " [0.640942314743, 8],\n",
       " [0.640942314743, 9],\n",
       " [0.640942314743, 10],\n",
       " [9.48184141731, 11],\n",
       " [0.640942314743, 12],\n",
       " [0.640942314743, 13],\n",
       " [0.640942314743, 14],\n",
       " [420.9975, 15],\n",
       " [0.640942314743, 16],\n",
       " [3.57101198733, 17],\n",
       " [491.4755352, 18],\n",
       " [0.640942314743, 19],\n",
       " [0.640942314743, 20],\n",
       " [0.640942314743, 21],\n",
       " [0.640942314743, 22],\n",
       " [7.25731468803, 23],\n",
       " [0.640942314743, 24],\n",
       " [0.640942314743, 25],\n",
       " [647644567.41, 26],\n",
       " [0.640942314743, 27],\n",
       " [0.640942314743, 28],\n",
       " [0.640942314743, 29],\n",
       " [0.0, 30],\n",
       " [0.640942314743, 31],\n",
       " [9.48184141731, 32],\n",
       " [0.640942314743, 33],\n",
       " [10.5048298667, 34],\n",
       " [0.640942314743, 35],\n",
       " [15.8199390401, 36],\n",
       " [8.3325, 37],\n",
       " [100.0, 38],\n",
       " [0.640942314743, 39],\n",
       " [0.640942314743, 40],\n",
       " [5.30244713221, 41],\n",
       " [0.640942314743, 42],\n",
       " [12.3385224289, 43],\n",
       " [0.640942314743, 44],\n",
       " [14.0067394982, 45],\n",
       " [0.640942314743, 46],\n",
       " [0.640942314743, 47],\n",
       " [30.5506580451, 48],\n",
       " [8.3325, 49]]"
      ]
     },
     "execution_count": 39,
     "metadata": {},
     "output_type": "execute_result"
    }
   ],
   "source": [
    "ges.fitness_list"
   ]
  },
  {
   "cell_type": "code",
   "execution_count": 38,
   "metadata": {},
   "outputs": [
    {
     "name": "stdout",
     "output_type": "stream",
     "text": [
      "<pyneurgen.genotypes.Genotype object at 0x7fb420187dd0>\n"
     ]
    }
   ],
   "source": [
    "print ges.get_best_member()"
   ]
  },
  {
   "cell_type": "code",
   "execution_count": null,
   "metadata": {
    "collapsed": true
   },
   "outputs": [],
   "source": []
  }
 ],
 "metadata": {
  "kernelspec": {
   "display_name": "Python 2",
   "language": "python",
   "name": "python2"
  },
  "language_info": {
   "codemirror_mode": {
    "name": "ipython",
    "version": 2
   },
   "file_extension": ".py",
   "mimetype": "text/x-python",
   "name": "python",
   "nbconvert_exporter": "python",
   "pygments_lexer": "ipython2",
   "version": "2.7.13"
  }
 },
 "nbformat": 4,
 "nbformat_minor": 2
}
